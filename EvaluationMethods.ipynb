{
 "cells": [
  {
   "cell_type": "markdown",
   "metadata": {},
   "source": [
    "# Evaluation Methods "
   ]
  },
  {
   "cell_type": "code",
   "execution_count": 1,
   "metadata": {},
   "outputs": [],
   "source": [
    "import matplotlib.pyplot as plt\n",
    "import seaborn as sns\n",
    "import pandas as pd\n",
    "import numpy as np\n",
    "import statsmodels.api as sm\n",
    "from sklearn.linear_model import LogisticRegression\n",
    "from sklearn.metrics import classification_report, confusion_matrix\n",
    "from sklearn.model_selection import train_test_split,StratifiedKFold\n",
    "\n",
    "import warnings\n",
    "warnings.filterwarnings('ignore')"
   ]
  },
  {
   "cell_type": "code",
   "execution_count": 2,
   "metadata": {},
   "outputs": [],
   "source": [
    "data = pd.read_csv('Weekly.csv') "
   ]
  },
  {
   "cell_type": "code",
   "execution_count": 3,
   "metadata": {},
   "outputs": [
    {
     "data": {
      "text/html": [
       "<div>\n",
       "<style scoped>\n",
       "    .dataframe tbody tr th:only-of-type {\n",
       "        vertical-align: middle;\n",
       "    }\n",
       "\n",
       "    .dataframe tbody tr th {\n",
       "        vertical-align: top;\n",
       "    }\n",
       "\n",
       "    .dataframe thead th {\n",
       "        text-align: right;\n",
       "    }\n",
       "</style>\n",
       "<table border=\"1\" class=\"dataframe\">\n",
       "  <thead>\n",
       "    <tr style=\"text-align: right;\">\n",
       "      <th></th>\n",
       "      <th>Year</th>\n",
       "      <th>Lag1</th>\n",
       "      <th>Lag2</th>\n",
       "      <th>Lag3</th>\n",
       "      <th>Lag4</th>\n",
       "      <th>Lag5</th>\n",
       "      <th>Volume</th>\n",
       "      <th>Today</th>\n",
       "      <th>Direction</th>\n",
       "    </tr>\n",
       "  </thead>\n",
       "  <tbody>\n",
       "    <tr>\n",
       "      <th>0</th>\n",
       "      <td>1990</td>\n",
       "      <td>0.816</td>\n",
       "      <td>1.572</td>\n",
       "      <td>-3.936</td>\n",
       "      <td>-0.229</td>\n",
       "      <td>-3.484</td>\n",
       "      <td>0.154976</td>\n",
       "      <td>-0.270</td>\n",
       "      <td>Down</td>\n",
       "    </tr>\n",
       "    <tr>\n",
       "      <th>1</th>\n",
       "      <td>1990</td>\n",
       "      <td>-0.270</td>\n",
       "      <td>0.816</td>\n",
       "      <td>1.572</td>\n",
       "      <td>-3.936</td>\n",
       "      <td>-0.229</td>\n",
       "      <td>0.148574</td>\n",
       "      <td>-2.576</td>\n",
       "      <td>Down</td>\n",
       "    </tr>\n",
       "    <tr>\n",
       "      <th>2</th>\n",
       "      <td>1990</td>\n",
       "      <td>-2.576</td>\n",
       "      <td>-0.270</td>\n",
       "      <td>0.816</td>\n",
       "      <td>1.572</td>\n",
       "      <td>-3.936</td>\n",
       "      <td>0.159837</td>\n",
       "      <td>3.514</td>\n",
       "      <td>Up</td>\n",
       "    </tr>\n",
       "    <tr>\n",
       "      <th>3</th>\n",
       "      <td>1990</td>\n",
       "      <td>3.514</td>\n",
       "      <td>-2.576</td>\n",
       "      <td>-0.270</td>\n",
       "      <td>0.816</td>\n",
       "      <td>1.572</td>\n",
       "      <td>0.161630</td>\n",
       "      <td>0.712</td>\n",
       "      <td>Up</td>\n",
       "    </tr>\n",
       "    <tr>\n",
       "      <th>4</th>\n",
       "      <td>1990</td>\n",
       "      <td>0.712</td>\n",
       "      <td>3.514</td>\n",
       "      <td>-2.576</td>\n",
       "      <td>-0.270</td>\n",
       "      <td>0.816</td>\n",
       "      <td>0.153728</td>\n",
       "      <td>1.178</td>\n",
       "      <td>Up</td>\n",
       "    </tr>\n",
       "  </tbody>\n",
       "</table>\n",
       "</div>"
      ],
      "text/plain": [
       "   Year   Lag1   Lag2   Lag3   Lag4   Lag5    Volume  Today Direction\n",
       "0  1990  0.816  1.572 -3.936 -0.229 -3.484  0.154976 -0.270      Down\n",
       "1  1990 -0.270  0.816  1.572 -3.936 -0.229  0.148574 -2.576      Down\n",
       "2  1990 -2.576 -0.270  0.816  1.572 -3.936  0.159837  3.514        Up\n",
       "3  1990  3.514 -2.576 -0.270  0.816  1.572  0.161630  0.712        Up\n",
       "4  1990  0.712  3.514 -2.576 -0.270  0.816  0.153728  1.178        Up"
      ]
     },
     "execution_count": 3,
     "metadata": {},
     "output_type": "execute_result"
    }
   ],
   "source": [
    "data.head()"
   ]
  },
  {
   "cell_type": "markdown",
   "metadata": {},
   "source": [
    "Usando os próprios exemplos de treinamento como teste"
   ]
  },
  {
   "cell_type": "code",
   "execution_count": 4,
   "metadata": {},
   "outputs": [
    {
     "data": {
      "text/plain": [
       "LogisticRegression(C=1.0, class_weight=None, dual=False, fit_intercept=True,\n",
       "                   intercept_scaling=1, l1_ratio=None, max_iter=100,\n",
       "                   multi_class='warn', n_jobs=None, penalty='l2',\n",
       "                   random_state=None, solver='warn', tol=0.0001, verbose=0,\n",
       "                   warm_start=False)"
      ]
     },
     "execution_count": 4,
     "metadata": {},
     "output_type": "execute_result"
    }
   ],
   "source": [
    "X = data[[\"Lag1\", \"Lag2\", \"Lag3\", \"Lag4\", \"Lag5\", \"Volume\"]]\n",
    "Y = data[[\"Direction\"]]\n",
    "logisticRegr = LogisticRegression()\n",
    "logisticRegr.fit(X, Y)"
   ]
  },
  {
   "cell_type": "code",
   "execution_count": 6,
   "metadata": {},
   "outputs": [
    {
     "name": "stdout",
     "output_type": "stream",
     "text": [
      "[[ 55 429]\n",
      " [ 47 558]]\n",
      "              precision    recall  f1-score   support\n",
      "\n",
      "        Down       0.54      0.11      0.19       484\n",
      "          Up       0.57      0.92      0.70       605\n",
      "\n",
      "    accuracy                           0.56      1089\n",
      "   macro avg       0.55      0.52      0.44      1089\n",
      "weighted avg       0.55      0.56      0.47      1089\n",
      "\n"
     ]
    }
   ],
   "source": [
    "predictions = logisticRegr.predict(X)\n",
    "print(confusion_matrix(Y, predictions))\n",
    "print(classification_report(Y, predictions))"
   ]
  },
  {
   "cell_type": "markdown",
   "metadata": {},
   "source": [
    "Holdout"
   ]
  },
  {
   "cell_type": "code",
   "execution_count": 10,
   "metadata": {},
   "outputs": [
    {
     "data": {
      "text/plain": [
       "((653, 6), (653, 1))"
      ]
     },
     "execution_count": 10,
     "metadata": {},
     "output_type": "execute_result"
    }
   ],
   "source": [
    "X_train, X_test, y_train, y_test = train_test_split(X, Y, test_size=0.4, random_state=0)\n",
    "X_train.shape, y_train.shape"
   ]
  },
  {
   "cell_type": "code",
   "execution_count": 11,
   "metadata": {},
   "outputs": [
    {
     "data": {
      "text/plain": [
       "((436, 6), (436, 1))"
      ]
     },
     "execution_count": 11,
     "metadata": {},
     "output_type": "execute_result"
    }
   ],
   "source": [
    "X_test.shape, y_test.shape"
   ]
  },
  {
   "cell_type": "code",
   "execution_count": 12,
   "metadata": {},
   "outputs": [
    {
     "name": "stdout",
     "output_type": "stream",
     "text": [
      "[[ 29 167]\n",
      " [ 33 207]]\n",
      "              precision    recall  f1-score   support\n",
      "\n",
      "        Down       0.47      0.15      0.22       196\n",
      "          Up       0.55      0.86      0.67       240\n",
      "\n",
      "    accuracy                           0.54       436\n",
      "   macro avg       0.51      0.51      0.45       436\n",
      "weighted avg       0.51      0.54      0.47       436\n",
      "\n"
     ]
    }
   ],
   "source": [
    "logisticRegr.fit(X_train, y_train)\n",
    "predictions = logisticRegr.predict(X_test)\n",
    "print(confusion_matrix(y_test, predictions))\n",
    "print(classification_report(y_test, predictions))"
   ]
  },
  {
   "cell_type": "markdown",
   "metadata": {},
   "source": [
    "k-fold"
   ]
  },
  {
   "cell_type": "code",
   "execution_count": 15,
   "metadata": {},
   "outputs": [],
   "source": [
    "skf = StratifiedKFold(n_splits=10, shuffle=True, random_state=1)\n",
    "lst_accu_stratified = []"
   ]
  },
  {
   "cell_type": "code",
   "execution_count": 20,
   "metadata": {},
   "outputs": [
    {
     "name": "stdout",
     "output_type": "stream",
     "text": [
      "              precision    recall  f1-score   support\n",
      "\n",
      "        Down       0.33      0.02      0.04        49\n",
      "          Up       0.55      0.97      0.70        61\n",
      "\n",
      "    accuracy                           0.55       110\n",
      "   macro avg       0.44      0.49      0.37       110\n",
      "weighted avg       0.45      0.55      0.41       110\n",
      "\n",
      "              precision    recall  f1-score   support\n",
      "\n",
      "        Down       0.60      0.12      0.20        49\n",
      "          Up       0.57      0.93      0.71        61\n",
      "\n",
      "    accuracy                           0.57       110\n",
      "   macro avg       0.58      0.53      0.46       110\n",
      "weighted avg       0.58      0.57      0.48       110\n",
      "\n",
      "              precision    recall  f1-score   support\n",
      "\n",
      "        Down       0.50      0.08      0.14        49\n",
      "          Up       0.56      0.93      0.70        61\n",
      "\n",
      "    accuracy                           0.55       110\n",
      "   macro avg       0.53      0.51      0.42       110\n",
      "weighted avg       0.53      0.55      0.45       110\n",
      "\n",
      "              precision    recall  f1-score   support\n",
      "\n",
      "        Down       0.45      0.10      0.17        49\n",
      "          Up       0.56      0.90      0.69        61\n",
      "\n",
      "    accuracy                           0.55       110\n",
      "   macro avg       0.51      0.50      0.43       110\n",
      "weighted avg       0.51      0.55      0.46       110\n",
      "\n",
      "              precision    recall  f1-score   support\n",
      "\n",
      "        Down       0.40      0.12      0.19        48\n",
      "          Up       0.55      0.85      0.67        61\n",
      "\n",
      "    accuracy                           0.53       109\n",
      "   macro avg       0.48      0.49      0.43       109\n",
      "weighted avg       0.49      0.53      0.46       109\n",
      "\n",
      "              precision    recall  f1-score   support\n",
      "\n",
      "        Down       0.50      0.17      0.25        48\n",
      "          Up       0.57      0.87      0.68        60\n",
      "\n",
      "    accuracy                           0.56       108\n",
      "   macro avg       0.53      0.52      0.47       108\n",
      "weighted avg       0.54      0.56      0.49       108\n",
      "\n",
      "              precision    recall  f1-score   support\n",
      "\n",
      "        Down       0.46      0.12      0.20        48\n",
      "          Up       0.56      0.88      0.68        60\n",
      "\n",
      "    accuracy                           0.55       108\n",
      "   macro avg       0.51      0.50      0.44       108\n",
      "weighted avg       0.52      0.55      0.47       108\n",
      "\n",
      "              precision    recall  f1-score   support\n",
      "\n",
      "        Down       0.41      0.19      0.26        48\n",
      "          Up       0.55      0.78      0.64        60\n",
      "\n",
      "    accuracy                           0.52       108\n",
      "   macro avg       0.48      0.49      0.45       108\n",
      "weighted avg       0.49      0.52      0.47       108\n",
      "\n",
      "              precision    recall  f1-score   support\n",
      "\n",
      "        Down       0.75      0.12      0.21        48\n",
      "          Up       0.58      0.97      0.72        60\n",
      "\n",
      "    accuracy                           0.59       108\n",
      "   macro avg       0.67      0.55      0.47       108\n",
      "weighted avg       0.66      0.59      0.50       108\n",
      "\n",
      "              precision    recall  f1-score   support\n",
      "\n",
      "        Down       0.57      0.08      0.15        48\n",
      "          Up       0.56      0.95      0.71        60\n",
      "\n",
      "    accuracy                           0.56       108\n",
      "   macro avg       0.57      0.52      0.43       108\n",
      "weighted avg       0.57      0.56      0.46       108\n",
      "\n"
     ]
    }
   ],
   "source": [
    "for train_index, test_index in skf.split(X, Y):\n",
    "    x_train_fold, x_test_fold = X.iloc[train_index], X.iloc[test_index]\n",
    "    y_train_fold, y_test_fold = Y.iloc[train_index], Y.iloc[test_index]\n",
    "    logisticRegr.fit(x_train_fold, y_train_fold)\n",
    "    lst_accu_stratified.append(logisticRegr.score(x_test_fold, y_test_fold))\n",
    "    predictions = logisticRegr.predict(x_test_fold)\n",
    "    print(classification_report(y_test_fold, predictions))"
   ]
  },
  {
   "cell_type": "code",
   "execution_count": 23,
   "metadata": {},
   "outputs": [
    {
     "name": "stdout",
     "output_type": "stream",
     "text": [
      "List of possible accuracy: [0.5454545454545454, 0.5727272727272728, 0.5545454545454546, 0.5454545454545454, 0.5321100917431193, 0.5555555555555556, 0.5462962962962963, 0.5185185185185185, 0.5925925925925926, 0.5648148148148148]\n",
      "\n",
      "Maximum Accuracy That can be obtained from this model is: 59.25925925925925 %\n",
      "\n",
      "Minimum Accuracy: 51.85185185185185 %\n"
     ]
    },
    {
     "ename": "NameError",
     "evalue": "name 'mean' is not defined",
     "output_type": "error",
     "traceback": [
      "\u001b[0;31m---------------------------------------------------------------------------\u001b[0m",
      "\u001b[0;31mNameError\u001b[0m                                 Traceback (most recent call last)",
      "\u001b[0;32m<ipython-input-23-c42e4d449f8d>\u001b[0m in \u001b[0;36m<module>\u001b[0;34m\u001b[0m\n\u001b[1;32m      5\u001b[0m       min(lst_accu_stratified)*100, '%')\n\u001b[1;32m      6\u001b[0m print('\\nOverall Accuracy:',\n\u001b[0;32m----> 7\u001b[0;31m       mean(lst_accu_stratified)*100, '%')\n\u001b[0m\u001b[1;32m      8\u001b[0m \u001b[0mprint\u001b[0m\u001b[0;34m(\u001b[0m\u001b[0;34m'\\nStandard Deviation is:'\u001b[0m\u001b[0;34m,\u001b[0m \u001b[0mstdev\u001b[0m\u001b[0;34m(\u001b[0m\u001b[0mlst_accu_stratified\u001b[0m\u001b[0;34m)\u001b[0m\u001b[0;34m)\u001b[0m\u001b[0;34m\u001b[0m\u001b[0;34m\u001b[0m\u001b[0m\n",
      "\u001b[0;31mNameError\u001b[0m: name 'mean' is not defined"
     ]
    }
   ],
   "source": [
    "print('List of possible accuracy:', lst_accu_stratified)\n",
    "print('\\nMaximum Accuracy That can be obtained from this model is:',\n",
    "      max(lst_accu_stratified)*100, '%')\n",
    "print('\\nMinimum Accuracy:',\n",
    "      min(lst_accu_stratified)*100, '%')\n",
    "print('\\nOverall Accuracy:',\n",
    "      mean(lst_accu_stratified)*100, '%')\n",
    "print('\\nStandard Deviation is:', stdev(lst_accu_stratified))"
   ]
  },
  {
   "cell_type": "code",
   "execution_count": null,
   "metadata": {},
   "outputs": [],
   "source": []
  }
 ],
 "metadata": {
  "kernelspec": {
   "display_name": "Python 3",
   "language": "python",
   "name": "python3"
  },
  "language_info": {
   "codemirror_mode": {
    "name": "ipython",
    "version": 3
   },
   "file_extension": ".py",
   "mimetype": "text/x-python",
   "name": "python",
   "nbconvert_exporter": "python",
   "pygments_lexer": "ipython3",
   "version": "3.7.3"
  }
 },
 "nbformat": 4,
 "nbformat_minor": 2
}
